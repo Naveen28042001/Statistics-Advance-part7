{
 "cells": [
  {
   "cell_type": "code",
   "execution_count": null,
   "id": "1cdd4391-9833-4c46-9818-fc67f60ddbe4",
   "metadata": {},
   "outputs": [],
   "source": [
    "Q1. Write a Python function that takes in two arrays of data and calculates the F-value for a variance ratio\n",
    "test. The function should return the F-value and the corresponding p-value for the test."
   ]
  },
  {
   "cell_type": "code",
   "execution_count": 1,
   "id": "505d6c83-e821-4b93-9891-827a1dff99b6",
   "metadata": {},
   "outputs": [],
   "source": [
    "import numpy as np\n",
    "from scipy.stats import f_oneway"
   ]
  },
  {
   "cell_type": "code",
   "execution_count": 2,
   "id": "4aa30102-2863-4ed4-8840-b5513f4eb478",
   "metadata": {},
   "outputs": [],
   "source": [
    "def variance_ratio_test(data1, data2):\n",
    "    # Perform variance ratio test (F-test)\n",
    "    f_value, p_value = f_oneway(data1, data2)\n",
    "\n",
    "    return f_value, p_value\n"
   ]
  },
  {
   "cell_type": "code",
   "execution_count": 3,
   "id": "5e7f0e51-c5f4-447b-b3d4-b90a25a093ea",
   "metadata": {},
   "outputs": [],
   "source": [
    "group1_data = np.random.normal(loc=5, scale=2, size=100)\n",
    "group2_data = np.random.normal(loc=7, scale=2, size=100)"
   ]
  },
  {
   "cell_type": "code",
   "execution_count": 4,
   "id": "77e14a01-536b-46e4-bb59-f1aee17474bc",
   "metadata": {},
   "outputs": [
    {
     "data": {
      "text/plain": [
       "array([ 4.64366037,  3.43072839,  5.53946117,  6.06417967,  4.70613909,\n",
       "        8.23564466,  5.7125257 ,  4.04322884,  3.25037265,  5.82081301,\n",
       "        3.69986673,  7.96544852,  4.03938465,  4.9286091 ,  4.14845167,\n",
       "        6.56831165,  1.62678424,  6.48806092,  2.62559381,  7.57395646,\n",
       "        3.63612386,  4.12043914,  6.60364721,  6.46638468,  7.31693567,\n",
       "        3.08115065,  4.06666159,  5.7640681 ,  5.171813  ,  2.47430151,\n",
       "        3.87232132,  4.56156538,  7.2661843 ,  0.89127344,  7.74357351,\n",
       "        5.5472101 ,  3.8056997 ,  5.56238899,  4.57191433,  3.35806797,\n",
       "        6.73633138,  9.44185214,  6.14318419,  6.38469171,  3.85421482,\n",
       "        4.62009958,  8.46688492,  5.09609408,  7.45799033, -0.17988992,\n",
       "        3.72421829,  2.34249184,  7.84275643,  4.02298957,  4.80323904,\n",
       "        1.7569069 ,  4.74694244,  2.66956412,  0.87633091,  9.17754837,\n",
       "        7.81824077,  6.39545764,  5.25015738,  1.05773196,  5.42118394,\n",
       "        4.49241633,  3.95936567,  4.44134143,  3.26708031,  5.40709171,\n",
       "        6.13785375,  6.03604519,  6.58435716,  7.11636226,  6.10115394,\n",
       "        2.55442801,  1.55227847,  3.11943873,  6.38044293,  5.64993561,\n",
       "        2.6715226 ,  7.77249145,  6.72003104,  6.54042974,  0.79835308,\n",
       "       12.8732216 ,  3.60093711,  6.02667033,  1.34243921,  4.1282603 ,\n",
       "        3.07589683,  6.1949829 ,  8.66739782,  6.17511552,  1.13522639,\n",
       "        5.7090073 ,  1.00772493,  3.55145686,  6.51303893,  1.58421422])"
      ]
     },
     "execution_count": 4,
     "metadata": {},
     "output_type": "execute_result"
    }
   ],
   "source": [
    "group1_data"
   ]
  },
  {
   "cell_type": "code",
   "execution_count": 5,
   "id": "db32789c-9cc7-4a93-bb2f-8f650a1fee3f",
   "metadata": {},
   "outputs": [
    {
     "data": {
      "text/plain": [
       "array([ 7.50801668,  6.82731447,  9.48219311,  8.5017573 ,  8.02180732,\n",
       "       10.94773776,  9.92513021,  6.60369616,  9.02880302,  6.13368336,\n",
       "        6.70899424,  6.97227679,  5.72831352,  6.7604292 ,  8.27392859,\n",
       "        8.82333689,  9.20084092,  5.73636147,  8.11587702,  7.0006343 ,\n",
       "        7.83024052,  3.61762322,  8.92799164,  4.74127928,  7.50715776,\n",
       "        9.05456638,  7.47422057,  3.40192931,  7.22382166,  8.28389017,\n",
       "        5.48162196,  6.93243527,  5.43731324,  3.34677351,  7.52218665,\n",
       "        5.57368799,  8.38124792,  5.8851995 ,  9.10269138,  5.78388401,\n",
       "        4.50159853,  8.59679601,  7.31015417,  7.43875136,  6.40299837,\n",
       "        8.45405303,  6.4836366 ,  7.2370213 ,  9.6696375 ,  6.25103634,\n",
       "        6.1638454 , 10.6415837 ,  3.98282602,  5.94571069,  6.83896586,\n",
       "        7.94116599,  6.5482846 ,  8.5633619 ,  8.07245053,  5.56024627,\n",
       "       11.28019081,  5.76852335,  7.21513892,  5.66450196,  4.63456596,\n",
       "        3.96330943,  6.54556113,  7.06568071,  8.63272077,  6.38645028,\n",
       "        8.02395528,  5.38584715,  2.40428303,  1.24190892,  6.71819574,\n",
       "        8.04772333,  9.2764309 ,  7.07608291,  8.83235558,  6.16857312,\n",
       "        8.0188261 ,  4.58853343,  4.55053137,  4.39564661,  5.16989439,\n",
       "        7.63974297,  7.43095797,  5.96805398,  6.6593774 ,  6.94480795,\n",
       "       10.65343663,  6.33041564,  6.688065  ,  8.2266382 ,  5.4615233 ,\n",
       "        8.40506105,  4.79151805,  7.04799732,  6.12673325,  7.30900528])"
      ]
     },
     "execution_count": 5,
     "metadata": {},
     "output_type": "execute_result"
    }
   ],
   "source": [
    "group2_data"
   ]
  },
  {
   "cell_type": "code",
   "execution_count": 6,
   "id": "54859146-c310-406f-a654-06bcefa09d74",
   "metadata": {},
   "outputs": [],
   "source": [
    "f_value, p_value = variance_ratio_test(group1_data, group2_data)"
   ]
  },
  {
   "cell_type": "code",
   "execution_count": 7,
   "id": "b937839a-cb36-495e-919e-54b610a5d8bb",
   "metadata": {},
   "outputs": [
    {
     "name": "stdout",
     "output_type": "stream",
     "text": [
      "F-value: 47.82951570356011\n",
      "P-value: 6.266766318985354e-11\n"
     ]
    }
   ],
   "source": [
    "# Display the results\n",
    "print(f\"F-value: {f_value}\")\n",
    "print(f\"P-value: {p_value}\")"
   ]
  },
  {
   "cell_type": "code",
   "execution_count": null,
   "id": "59f8e17f-1d0e-44d5-883f-353af0caf5a8",
   "metadata": {},
   "outputs": [],
   "source": [
    "Q2. Given a significance level of 0.05 and the degrees of freedom for the numerator and denominator of an\n",
    "F-distribution, write a Python function that returns the critical F-value for a two-tailed test."
   ]
  },
  {
   "cell_type": "code",
   "execution_count": 8,
   "id": "f5ee9aff-1584-4e75-95d1-8b46471cae71",
   "metadata": {},
   "outputs": [],
   "source": [
    "from scipy.stats import f"
   ]
  },
  {
   "cell_type": "code",
   "execution_count": 9,
   "id": "b2d5d45c-5bae-47e3-b8be-5814a64b8a29",
   "metadata": {},
   "outputs": [],
   "source": [
    "def critical_f_value(alpha, df_between, df_within):\n",
    "    # Calculate the critical F-value\n",
    "    critical_f = f.ppf(1 - alpha / 2, df_between, df_within)\n",
    "\n",
    "    return critical_f\n"
   ]
  },
  {
   "cell_type": "code",
   "execution_count": 10,
   "id": "ee9eee0e-6cd3-4eb6-b07c-65e9cfe1f620",
   "metadata": {},
   "outputs": [],
   "source": [
    "alpha = 0.05\n",
    "df_between_example = 3\n",
    "df_within_example = 20"
   ]
  },
  {
   "cell_type": "code",
   "execution_count": 11,
   "id": "6a7c5563-c36c-4b20-9535-44610a1251ab",
   "metadata": {},
   "outputs": [],
   "source": [
    "critical_f = critical_f_value(alpha, df_between_example, df_within_example)"
   ]
  },
  {
   "cell_type": "code",
   "execution_count": 12,
   "id": "89050957-0a44-46cc-8fe9-2a2c9dbd15a3",
   "metadata": {},
   "outputs": [
    {
     "data": {
      "text/plain": [
       "3.8586986662732143"
      ]
     },
     "execution_count": 12,
     "metadata": {},
     "output_type": "execute_result"
    }
   ],
   "source": [
    "critical_f"
   ]
  },
  {
   "cell_type": "code",
   "execution_count": 13,
   "id": "b0e5f871-3351-4c76-8c65-3b175ae98692",
   "metadata": {},
   "outputs": [
    {
     "name": "stdout",
     "output_type": "stream",
     "text": [
      "Critical F-value: 3.8586986662732143\n"
     ]
    }
   ],
   "source": [
    "# Display the result\n",
    "print(f\"Critical F-value: {critical_f}\")"
   ]
  },
  {
   "cell_type": "code",
   "execution_count": null,
   "id": "ef117b3d-4a0f-455e-8825-9a50af487411",
   "metadata": {},
   "outputs": [],
   "source": [
    "Q3. Write a Python program that generates random samples from two normal distributions with known\n",
    "\n",
    "variances and uses an F-test to determine if the variances are equal. The program should output the F-\n",
    "value, degrees of freedom, and p-value for the test."
   ]
  },
  {
   "cell_type": "code",
   "execution_count": 14,
   "id": "8e32f5e3-5021-4ede-a4dc-e496bd3aff15",
   "metadata": {},
   "outputs": [],
   "source": [
    "import numpy as np\n",
    "from scipy.stats import f"
   ]
  },
  {
   "cell_type": "code",
   "execution_count": 15,
   "id": "0d0d99d7-74d7-4f14-8e39-b2067c9f0d23",
   "metadata": {},
   "outputs": [],
   "source": [
    "def equal_variances_f_test(data1, data2):\n",
    "    # Calculate variances\n",
    "    var1 = np.var(data1, ddof=1)\n",
    "    var2 = np.var(data2, ddof=1)\n",
    "\n",
    "    # Check which variance is larger\n",
    "    if var1 > var2:\n",
    "        larger_var = var1\n",
    "        smaller_var = var2\n",
    "    else:\n",
    "        larger_var = var2\n",
    "        smaller_var = var1\n",
    "\n",
    "    # Calculate F-value, degrees of freedom, and p-value\n",
    "    f_value = larger_var / smaller_var\n",
    "    df_num = len(data1) - 1\n",
    "    df_denom = len(data2) - 1\n",
    "    p_value = 2 * min(f.cdf(f_value, df_num, df_denom), 1 - f.cdf(f_value, df_num, df_denom))\n",
    "\n",
    "    return f_value, df_num, df_denom, p_value\n"
   ]
  },
  {
   "cell_type": "code",
   "execution_count": 16,
   "id": "d6c35c0e-4bc1-45b1-831a-94473cfc0e28",
   "metadata": {},
   "outputs": [],
   "source": [
    "data1 = np.random.normal(loc=5, scale=2, size=50)\n",
    "data2 = np.random.normal(loc=5, scale=3, size=50)"
   ]
  },
  {
   "cell_type": "code",
   "execution_count": 17,
   "id": "468d0997-0720-4d0e-a3db-ea0a6592beb8",
   "metadata": {},
   "outputs": [
    {
     "data": {
      "text/plain": [
       "array([ 9.00808495,  7.41238772,  4.4404037 ,  2.10638396,  5.86428865,\n",
       "        0.2708862 ,  1.49144879,  2.33657139,  5.05615268,  5.89039154,\n",
       "        4.74850013,  5.47384514,  6.52627819,  3.77942327,  2.9746898 ,\n",
       "        4.33106315,  8.83322616,  7.56133623,  5.96976382,  2.94229665,\n",
       "        4.76329675,  2.75103819,  7.54429694,  2.4221836 ,  4.45526897,\n",
       "        5.1112632 ,  6.28120666,  4.18739598,  2.71201514,  7.49926792,\n",
       "        2.82478183,  8.53333029,  5.52458979,  1.55996378,  9.2575883 ,\n",
       "        4.73177194,  4.73581305,  4.48925816,  3.18244815,  1.4678115 ,\n",
       "        5.58591537,  4.39998795,  3.51402865,  2.74994344,  5.22496812,\n",
       "        6.79255183,  3.13997006,  5.07577313,  6.13466677, 10.83048502])"
      ]
     },
     "execution_count": 17,
     "metadata": {},
     "output_type": "execute_result"
    }
   ],
   "source": [
    "data1"
   ]
  },
  {
   "cell_type": "code",
   "execution_count": 18,
   "id": "fb9d121f-ac6c-49e8-877f-878e1b310b1d",
   "metadata": {},
   "outputs": [
    {
     "data": {
      "text/plain": [
       "array([ 6.23226989,  8.77983332,  6.3061523 ,  3.00885258,  4.72978804,\n",
       "        8.05859935,  2.18642731,  0.87243494,  5.77460295,  3.8777176 ,\n",
       "        6.47117838,  4.10294111,  3.58337602,  1.40417511,  3.61416527,\n",
       "        6.02789387,  7.27551847,  4.75556106, -2.06496846,  5.28771195,\n",
       "        4.24037921, 10.33273892,  6.80552714,  9.74481944,  3.51600702,\n",
       "       11.52227896,  2.72285995,  4.58903293,  5.75384483,  1.98356676,\n",
       "        2.90681736,  7.08445768,  1.92342385,  2.79068152,  3.5790209 ,\n",
       "        8.06385732,  0.77345642,  5.29703644,  4.82856912,  3.80756952,\n",
       "        4.07425037, -0.50701246,  2.45200694, -1.2241372 ,  0.52392147,\n",
       "        3.96601032, 12.61856746,  3.78744686,  3.59856693,  5.20895721])"
      ]
     },
     "execution_count": 18,
     "metadata": {},
     "output_type": "execute_result"
    }
   ],
   "source": [
    "data2"
   ]
  },
  {
   "cell_type": "code",
   "execution_count": 19,
   "id": "0b5cb5bc-4073-412b-9f6b-5bddf88b0f3d",
   "metadata": {},
   "outputs": [],
   "source": [
    "f_value, df_num, df_denom, p_value = equal_variances_f_test(data1, data2)"
   ]
  },
  {
   "cell_type": "code",
   "execution_count": 20,
   "id": "f018dd26-e643-4fc1-92e4-d829339bab9e",
   "metadata": {},
   "outputs": [
    {
     "name": "stdout",
     "output_type": "stream",
     "text": [
      "F-value: 1.7725641627357915\n",
      "Degrees of Freedom (numerator): 49\n",
      "Degrees of Freedom (denominator): 49\n",
      "P-value: 0.047702784641918905\n"
     ]
    }
   ],
   "source": [
    "# Display the results\n",
    "print(f\"F-value: {f_value}\")\n",
    "print(f\"Degrees of Freedom (numerator): {df_num}\")\n",
    "print(f\"Degrees of Freedom (denominator): {df_denom}\")\n",
    "print(f\"P-value: {p_value}\")"
   ]
  },
  {
   "cell_type": "code",
   "execution_count": null,
   "id": "7c6472f0-efe1-42b2-a1b6-55e9ff8072b4",
   "metadata": {},
   "outputs": [],
   "source": [
    "Q4.The variances of two populations are known to be 10 and 15. A sample of 12 observations is taken from\n",
    "each population. Conduct an F-test at the 5% significance level to determine if the variances are\n",
    "significantly different."
   ]
  },
  {
   "cell_type": "code",
   "execution_count": 21,
   "id": "3be2426b-f46b-431a-9619-5a38b6a312af",
   "metadata": {},
   "outputs": [],
   "source": [
    "from scipy.stats import f\n"
   ]
  },
  {
   "cell_type": "code",
   "execution_count": 22,
   "id": "ec4d13dc-0f51-4ae6-8030-79f741c5ee70",
   "metadata": {},
   "outputs": [],
   "source": [
    "# Given data\n",
    "variance1 = 10\n",
    "variance2 = 15\n",
    "sample_size = 12\n",
    "alpha = 0.05"
   ]
  },
  {
   "cell_type": "code",
   "execution_count": 23,
   "id": "9044b9ba-a1f7-4501-b8dc-389aac07a296",
   "metadata": {},
   "outputs": [],
   "source": [
    "# Degrees of freedom\n",
    "df1 = sample_size - 1\n",
    "df2 = sample_size - 1"
   ]
  },
  {
   "cell_type": "code",
   "execution_count": 24,
   "id": "715f2f25-c013-4bf0-b33c-29fe8834f853",
   "metadata": {},
   "outputs": [
    {
     "data": {
      "text/plain": [
       "11"
      ]
     },
     "execution_count": 24,
     "metadata": {},
     "output_type": "execute_result"
    }
   ],
   "source": [
    "df1"
   ]
  },
  {
   "cell_type": "code",
   "execution_count": 25,
   "id": "a3f50468-3f2e-40f4-8644-f6741b86ea92",
   "metadata": {},
   "outputs": [
    {
     "data": {
      "text/plain": [
       "11"
      ]
     },
     "execution_count": 25,
     "metadata": {},
     "output_type": "execute_result"
    }
   ],
   "source": [
    "df2"
   ]
  },
  {
   "cell_type": "code",
   "execution_count": 26,
   "id": "5df9bb4c-c792-43f9-95d1-01d6d9a1ca39",
   "metadata": {},
   "outputs": [],
   "source": [
    "# F-statistic calculation\n",
    "f_statistic = variance1 / variance2"
   ]
  },
  {
   "cell_type": "code",
   "execution_count": 27,
   "id": "2004fcda-bfe7-4431-973b-efa7ae871451",
   "metadata": {},
   "outputs": [
    {
     "data": {
      "text/plain": [
       "0.6666666666666666"
      ]
     },
     "execution_count": 27,
     "metadata": {},
     "output_type": "execute_result"
    }
   ],
   "source": [
    "f_statistic"
   ]
  },
  {
   "cell_type": "code",
   "execution_count": 28,
   "id": "56befa6a-f2f4-4b90-96f2-c9f92d75f98c",
   "metadata": {},
   "outputs": [],
   "source": [
    "# P-value calculation\n",
    "p_value = 2 * min(f.cdf(f_statistic, df1, df2), 1 - f.cdf(f_statistic, df1, df2))"
   ]
  },
  {
   "cell_type": "code",
   "execution_count": 29,
   "id": "b0276668-8812-4d80-ad84-7a79b3489956",
   "metadata": {},
   "outputs": [
    {
     "data": {
      "text/plain": [
       "0.5123897987357996"
      ]
     },
     "execution_count": 29,
     "metadata": {},
     "output_type": "execute_result"
    }
   ],
   "source": [
    "p_value"
   ]
  },
  {
   "cell_type": "code",
   "execution_count": 30,
   "id": "2f12313c-d81f-485f-b8bb-f8d08d237073",
   "metadata": {},
   "outputs": [],
   "source": [
    "# Critical F-value for two-tailed test\n",
    "critical_f_value = f.ppf(1 - alpha / 2, df1, df2)"
   ]
  },
  {
   "cell_type": "code",
   "execution_count": 31,
   "id": "20604a83-292e-4e42-9ab9-14960210be5a",
   "metadata": {},
   "outputs": [
    {
     "data": {
      "text/plain": [
       "3.473699051085809"
      ]
     },
     "execution_count": 31,
     "metadata": {},
     "output_type": "execute_result"
    }
   ],
   "source": [
    "critical_f_value"
   ]
  },
  {
   "cell_type": "code",
   "execution_count": 32,
   "id": "4faca923-bd63-449e-9808-4d2d3ef6a567",
   "metadata": {},
   "outputs": [
    {
     "name": "stdout",
     "output_type": "stream",
     "text": [
      "F-statistic: 0.6666666666666666\n",
      "P-value: 0.5123897987357996\n",
      "Critical F-value: 3.473699051085809\n"
     ]
    }
   ],
   "source": [
    "# Display the results\n",
    "print(f\"F-statistic: {f_statistic}\")\n",
    "print(f\"P-value: {p_value}\")\n",
    "print(f\"Critical F-value: {critical_f_value}\")"
   ]
  },
  {
   "cell_type": "code",
   "execution_count": 33,
   "id": "731c4129-0df6-4979-a92a-ebac6f7dfb80",
   "metadata": {},
   "outputs": [
    {
     "name": "stdout",
     "output_type": "stream",
     "text": [
      "Fail to reject the null hypothesis. There is not enough evidence to conclude significant difference in variances.\n"
     ]
    }
   ],
   "source": [
    "# Compare with the significance level\n",
    "if p_value < alpha:\n",
    "    print(\"Reject the null hypothesis. Variances are significantly different.\")\n",
    "else:\n",
    "    print(\"Fail to reject the null hypothesis. There is not enough evidence to conclude significant difference in variances.\")"
   ]
  },
  {
   "cell_type": "code",
   "execution_count": null,
   "id": "c475eca3-320b-4c00-92b2-44adcdaad579",
   "metadata": {},
   "outputs": [],
   "source": [
    "Q5. A manufacturer claims that the variance of the diameter of a certain product is 0.005. A sample of 25\n",
    "products is taken, and the sample variance is found to be 0.006. Conduct an F-test at the 1% significance\n",
    "level to determine if the claim is justified."
   ]
  },
  {
   "cell_type": "code",
   "execution_count": 34,
   "id": "cfe0d7d2-a25b-4ffc-b3ce-7321a417482a",
   "metadata": {},
   "outputs": [],
   "source": [
    "from scipy.stats import f"
   ]
  },
  {
   "cell_type": "code",
   "execution_count": 35,
   "id": "02b809b7-6b39-444b-9953-1558b613f281",
   "metadata": {},
   "outputs": [],
   "source": [
    "# Given data\n",
    "claimed_variance = 0.005\n",
    "sample_variance = 0.006\n",
    "sample_size = 25\n",
    "alpha = 0.01"
   ]
  },
  {
   "cell_type": "code",
   "execution_count": 36,
   "id": "38d27521-83f3-47d8-9042-ed587f2e1c67",
   "metadata": {},
   "outputs": [],
   "source": [
    "# Degrees of freedom\n",
    "df_numerator = sample_size - 1\n",
    "df_denominator = 1  # Degrees of freedom for population variance\n"
   ]
  },
  {
   "cell_type": "code",
   "execution_count": 37,
   "id": "5983ce22-809d-4410-810e-b0d083f7d9d7",
   "metadata": {},
   "outputs": [
    {
     "data": {
      "text/plain": [
       "24"
      ]
     },
     "execution_count": 37,
     "metadata": {},
     "output_type": "execute_result"
    }
   ],
   "source": [
    "df_numerator"
   ]
  },
  {
   "cell_type": "code",
   "execution_count": 38,
   "id": "8230c8fa-4bf9-499e-a8c4-01b363f1976e",
   "metadata": {},
   "outputs": [
    {
     "data": {
      "text/plain": [
       "1"
      ]
     },
     "execution_count": 38,
     "metadata": {},
     "output_type": "execute_result"
    }
   ],
   "source": [
    "df_denominator"
   ]
  },
  {
   "cell_type": "code",
   "execution_count": 39,
   "id": "893312c7-6bc7-456e-8e3b-29fc6e6b5d44",
   "metadata": {},
   "outputs": [],
   "source": [
    "# F-statistic calculation\n",
    "f_statistic = (sample_variance / claimed_variance)"
   ]
  },
  {
   "cell_type": "code",
   "execution_count": 40,
   "id": "e376bbde-4e6b-4993-8e5d-656a321f357f",
   "metadata": {},
   "outputs": [],
   "source": [
    "# P-value calculation\n",
    "p_value = 2 * min(f.cdf(f_statistic, df_numerator, df_denominator), 1 - f.cdf(f_statistic, df_numerator, df_denominator))"
   ]
  },
  {
   "cell_type": "code",
   "execution_count": 41,
   "id": "fa4cf463-ce27-4c3f-8c6f-521fb3b5d5df",
   "metadata": {},
   "outputs": [],
   "source": [
    "# Critical F-value for two-tailed test\n",
    "critical_f_value = f.ppf(1 - alpha / 2, df_numerator, df_denominator)\n"
   ]
  },
  {
   "cell_type": "code",
   "execution_count": 42,
   "id": "5b42e117-22af-4d1f-8d00-948f02b66902",
   "metadata": {},
   "outputs": [
    {
     "name": "stdout",
     "output_type": "stream",
     "text": [
      "F-statistic: 1.2\n",
      "P-value: 0.7407800760081285\n",
      "Critical F-value: 24939.565259943236\n"
     ]
    }
   ],
   "source": [
    "# Display the results\n",
    "print(f\"F-statistic: {f_statistic}\")\n",
    "print(f\"P-value: {p_value}\")\n",
    "print(f\"Critical F-value: {critical_f_value}\")"
   ]
  },
  {
   "cell_type": "code",
   "execution_count": 45,
   "id": "9bf1a825-6f46-4f88-b53c-f7741cc82268",
   "metadata": {},
   "outputs": [
    {
     "name": "stdout",
     "output_type": "stream",
     "text": [
      "Fail to reject the null hypothesis\n"
     ]
    }
   ],
   "source": [
    "# Compare with the significance level\n",
    "if p_value < alpha:\n",
    "    print(\"Reject the null hypothesis\")\n",
    "else:\n",
    "    print(\"Fail to reject the null hypothesis\")"
   ]
  },
  {
   "cell_type": "code",
   "execution_count": null,
   "id": "0543bcf1-c1c7-4ad0-8464-9234855ec046",
   "metadata": {},
   "outputs": [],
   "source": [
    "Q6. Write a Python function that takes in the degrees of freedom for the numerator and denominator of an\n",
    "F-distribution and calculates the mean and variance of the distribution. The function should return the\n",
    "mean and variance as a tuple."
   ]
  },
  {
   "cell_type": "code",
   "execution_count": 46,
   "id": "64051a8f-2ee7-4828-99d7-2f9dcd4b4027",
   "metadata": {},
   "outputs": [],
   "source": [
    "def f_distribution_mean_variance(df_numerator, df_denominator):\n",
    "    # Calculate mean\n",
    "    mean = df_denominator / (df_denominator - 2)\n",
    "\n",
    "    # Calculate variance\n",
    "    variance = (2 * df_denominator**2 * (df_numerator + df_denominator - 2)) / (df_numerator * (df_denominator - 2)**2 * (df_denominator - 4))\n",
    "\n",
    "    return mean, variance\n"
   ]
  },
  {
   "cell_type": "code",
   "execution_count": 47,
   "id": "ce6f6650-b961-4d17-8e62-d63208e01b41",
   "metadata": {},
   "outputs": [],
   "source": [
    "df_numerator_example = 3\n",
    "df_denominator_example = 20"
   ]
  },
  {
   "cell_type": "code",
   "execution_count": 48,
   "id": "b5aa2d51-5a42-482c-bb60-e80b60e4704c",
   "metadata": {},
   "outputs": [
    {
     "data": {
      "text/plain": [
       "3"
      ]
     },
     "execution_count": 48,
     "metadata": {},
     "output_type": "execute_result"
    }
   ],
   "source": [
    "df_numerator_example"
   ]
  },
  {
   "cell_type": "code",
   "execution_count": 49,
   "id": "337b8219-8573-49b2-9073-baf81cfcff3e",
   "metadata": {},
   "outputs": [
    {
     "data": {
      "text/plain": [
       "20"
      ]
     },
     "execution_count": 49,
     "metadata": {},
     "output_type": "execute_result"
    }
   ],
   "source": [
    "df_denominator_example"
   ]
  },
  {
   "cell_type": "code",
   "execution_count": 50,
   "id": "17426cf2-03ec-496e-aef2-f038a1c1fe5b",
   "metadata": {},
   "outputs": [],
   "source": [
    "mean, variance = f_distribution_mean_variance(df_numerator_example, df_denominator_example)\n"
   ]
  },
  {
   "cell_type": "code",
   "execution_count": 51,
   "id": "7e5e6e19-2130-41d0-81a5-6cf7d51bb94d",
   "metadata": {},
   "outputs": [
    {
     "name": "stdout",
     "output_type": "stream",
     "text": [
      "Mean of the F-distribution: 1.1111111111111112\n",
      "Variance of the F-distribution: 1.0802469135802468\n"
     ]
    }
   ],
   "source": [
    "# Display the result\n",
    "print(f\"Mean of the F-distribution: {mean}\")\n",
    "print(f\"Variance of the F-distribution: {variance}\")"
   ]
  },
  {
   "cell_type": "code",
   "execution_count": null,
   "id": "d817216d-53b9-4ef3-9085-b2ba698e769b",
   "metadata": {},
   "outputs": [],
   "source": [
    "Q7. A random sample of 10 measurements is taken from a normal population with unknown variance. The\n",
    "sample variance is found to be 25. Another random sample of 15 measurements is taken from another\n",
    "normal population with unknown variance, and the sample variance is found to be 20. Conduct an F-test\n",
    "at the 10% significance level to determine if the variances are significantly different."
   ]
  },
  {
   "cell_type": "code",
   "execution_count": 52,
   "id": "e3c3b58f-fa14-45b5-819b-d8167689f7dc",
   "metadata": {},
   "outputs": [],
   "source": [
    "from scipy.stats import f\n"
   ]
  },
  {
   "cell_type": "code",
   "execution_count": 53,
   "id": "10dfc64c-6a63-4e7e-bf4e-41a8736771d3",
   "metadata": {},
   "outputs": [],
   "source": [
    "# Given data\n",
    "sample_variance1 = 25\n",
    "sample_size1 = 10\n",
    "sample_variance2 = 20\n",
    "sample_size2 = 15\n",
    "alpha = 0.10"
   ]
  },
  {
   "cell_type": "code",
   "execution_count": 54,
   "id": "30cfb17e-a442-4471-8c11-c679c230eece",
   "metadata": {},
   "outputs": [],
   "source": [
    "# Degrees of freedom\n",
    "df_numerator = sample_size1 - 1\n",
    "df_denominator = sample_size2 - 1"
   ]
  },
  {
   "cell_type": "code",
   "execution_count": 55,
   "id": "c20d1f5c-af71-4646-82e3-8b49b4b6ac64",
   "metadata": {},
   "outputs": [
    {
     "data": {
      "text/plain": [
       "9"
      ]
     },
     "execution_count": 55,
     "metadata": {},
     "output_type": "execute_result"
    }
   ],
   "source": [
    "df_numerator"
   ]
  },
  {
   "cell_type": "code",
   "execution_count": 56,
   "id": "f6c03e85-696a-4ca9-9932-b37c9d3ab6f6",
   "metadata": {},
   "outputs": [
    {
     "data": {
      "text/plain": [
       "14"
      ]
     },
     "execution_count": 56,
     "metadata": {},
     "output_type": "execute_result"
    }
   ],
   "source": [
    "df_denominator"
   ]
  },
  {
   "cell_type": "code",
   "execution_count": 57,
   "id": "b4fb42c1-3010-4cb4-b948-f3cba584d0d3",
   "metadata": {},
   "outputs": [],
   "source": [
    "# F-statistic calculation\n",
    "f_statistic = sample_variance1 / sample_variance2"
   ]
  },
  {
   "cell_type": "code",
   "execution_count": 58,
   "id": "49a12849-50b7-4798-9bbc-5d941a374240",
   "metadata": {},
   "outputs": [],
   "source": [
    "# P-value calculation\n",
    "p_value = 2 * min(f.cdf(f_statistic, df_numerator, df_denominator), 1 - f.cdf(f_statistic, df_numerator, df_denominator))"
   ]
  },
  {
   "cell_type": "code",
   "execution_count": 59,
   "id": "d7329611-7431-47ab-9763-f8e8e5c79169",
   "metadata": {},
   "outputs": [],
   "source": [
    "# Critical F-value for two-tailed test\n",
    "critical_f_value = f.ppf(1 - alpha / 2, df_numerator, df_denominator)"
   ]
  },
  {
   "cell_type": "code",
   "execution_count": 60,
   "id": "6f563194-d15c-4b2b-a744-975b265fe866",
   "metadata": {},
   "outputs": [
    {
     "name": "stdout",
     "output_type": "stream",
     "text": [
      "F-statistic: 1.25\n",
      "P-value: 0.6832194382585954\n",
      "Critical F-value: 2.6457907352338195\n"
     ]
    }
   ],
   "source": [
    "# Display the results\n",
    "print(f\"F-statistic: {f_statistic}\")\n",
    "print(f\"P-value: {p_value}\")\n",
    "print(f\"Critical F-value: {critical_f_value}\")"
   ]
  },
  {
   "cell_type": "code",
   "execution_count": 61,
   "id": "c26f6a9a-47a8-4152-a0b1-3a1b2d0ef6c5",
   "metadata": {},
   "outputs": [
    {
     "name": "stdout",
     "output_type": "stream",
     "text": [
      "Fail to reject the null hypothesis. There is not enough evidence to conclude significant difference in variances.\n"
     ]
    }
   ],
   "source": [
    "# Compare with the significance level\n",
    "if p_value < alpha:\n",
    "    print(\"Reject the null hypothesis. Variances are significantly different.\")\n",
    "else:\n",
    "    print(\"Fail to reject the null hypothesis. There is not enough evidence to conclude significant difference in variances.\")"
   ]
  },
  {
   "cell_type": "code",
   "execution_count": null,
   "id": "5adc577e-12f1-44f1-a4f2-24322438fd93",
   "metadata": {},
   "outputs": [],
   "source": [
    "Q8. The following data represent the waiting times in minutes at two different restaurants on a Saturday\n",
    "night: Restaurant A: 24, 25, 28, 23, 22, 20, 27; Restaurant B: 31, 33, 35, 30, 32, 36. Conduct an F-test at the 5%\n",
    "significance level to determine if the variances are significantly different."
   ]
  },
  {
   "cell_type": "code",
   "execution_count": 62,
   "id": "db32dd4c-2c73-46c7-8640-630df7ab8507",
   "metadata": {},
   "outputs": [],
   "source": [
    "from scipy.stats import f"
   ]
  },
  {
   "cell_type": "code",
   "execution_count": 63,
   "id": "db1f780d-3ed8-4d31-8b19-920a44e4ebd5",
   "metadata": {},
   "outputs": [],
   "source": [
    "# Given data\n",
    "waiting_times_restaurant_A = [24, 25, 28, 23, 22, 20, 27]\n",
    "waiting_times_restaurant_B = [31, 33, 35, 30, 32, 36]\n",
    "alpha = 0.05"
   ]
  },
  {
   "cell_type": "code",
   "execution_count": 64,
   "id": "e1523f0c-53b7-44fe-a055-79ffc59f4d0b",
   "metadata": {},
   "outputs": [],
   "source": [
    "# Degrees of freedom\n",
    "df_numerator = len(waiting_times_restaurant_A) - 1\n",
    "df_denominator = len(waiting_times_restaurant_B) - 1\n"
   ]
  },
  {
   "cell_type": "code",
   "execution_count": 65,
   "id": "79e056f9-329e-484e-ae99-715aa26fbfe0",
   "metadata": {},
   "outputs": [
    {
     "data": {
      "text/plain": [
       "6"
      ]
     },
     "execution_count": 65,
     "metadata": {},
     "output_type": "execute_result"
    }
   ],
   "source": [
    "df_numerator"
   ]
  },
  {
   "cell_type": "code",
   "execution_count": 66,
   "id": "6d9e9d19-e88b-4f0d-8051-7209c6b7ebc9",
   "metadata": {},
   "outputs": [
    {
     "data": {
      "text/plain": [
       "5"
      ]
     },
     "execution_count": 66,
     "metadata": {},
     "output_type": "execute_result"
    }
   ],
   "source": [
    "df_denominator"
   ]
  },
  {
   "cell_type": "code",
   "execution_count": 67,
   "id": "9210d555-9f6e-4512-9ead-c49f085d9fad",
   "metadata": {},
   "outputs": [],
   "source": [
    "# Sample variances\n",
    "sample_variance_A = sum((x - np.mean(waiting_times_restaurant_A))**2 for x in waiting_times_restaurant_A) / df_numerator\n",
    "sample_variance_B = sum((x - np.mean(waiting_times_restaurant_B))**2 for x in waiting_times_restaurant_B) / df_denominator\n"
   ]
  },
  {
   "cell_type": "code",
   "execution_count": 68,
   "id": "5f2dd42e-1959-4b83-91e3-e968ee485b47",
   "metadata": {},
   "outputs": [
    {
     "data": {
      "text/plain": [
       "7.80952380952381"
      ]
     },
     "execution_count": 68,
     "metadata": {},
     "output_type": "execute_result"
    }
   ],
   "source": [
    "sample_variance_A"
   ]
  },
  {
   "cell_type": "code",
   "execution_count": 69,
   "id": "70b3cfe5-9b9d-4e44-9444-fa2edb6c4491",
   "metadata": {},
   "outputs": [
    {
     "data": {
      "text/plain": [
       "5.366666666666667"
      ]
     },
     "execution_count": 69,
     "metadata": {},
     "output_type": "execute_result"
    }
   ],
   "source": [
    "sample_variance_B"
   ]
  },
  {
   "cell_type": "code",
   "execution_count": 70,
   "id": "4bbf0222-fb85-43c1-8074-b2fd3667dee5",
   "metadata": {},
   "outputs": [],
   "source": [
    "# F-statistic calculation\n",
    "f_statistic = sample_variance_A / sample_variance_B"
   ]
  },
  {
   "cell_type": "code",
   "execution_count": 71,
   "id": "34d868b9-bede-46c7-b7a3-6939b55883f9",
   "metadata": {},
   "outputs": [],
   "source": [
    "# P-value calculation\n",
    "p_value = 2 * min(f.cdf(f_statistic, df_numerator, df_denominator), 1 - f.cdf(f_statistic, df_numerator, df_denominator))\n"
   ]
  },
  {
   "cell_type": "code",
   "execution_count": 72,
   "id": "e9c41156-33f6-4d48-879d-7acbe03a2f7b",
   "metadata": {},
   "outputs": [],
   "source": [
    "# Critical F-value for two-tailed test\n",
    "critical_f_value = f.ppf(1 - alpha / 2, df_numerator, df_denominator)"
   ]
  },
  {
   "cell_type": "code",
   "execution_count": 73,
   "id": "f6fd4b2d-f6c1-4e6d-b440-d996be53adce",
   "metadata": {},
   "outputs": [
    {
     "name": "stdout",
     "output_type": "stream",
     "text": [
      "F-statistic: 1.4551907719609583\n",
      "P-value: 0.6974815747937484\n",
      "Critical F-value: 6.977701858535566\n"
     ]
    }
   ],
   "source": [
    "# Display the results\n",
    "print(f\"F-statistic: {f_statistic}\")\n",
    "print(f\"P-value: {p_value}\")\n",
    "print(f\"Critical F-value: {critical_f_value}\")"
   ]
  },
  {
   "cell_type": "code",
   "execution_count": 74,
   "id": "8213f823-11c8-4f99-9674-7835e2a073b8",
   "metadata": {},
   "outputs": [
    {
     "name": "stdout",
     "output_type": "stream",
     "text": [
      "Fail to reject the null hypothesis. There is not enough evidence to conclude significant difference in variances.\n"
     ]
    }
   ],
   "source": [
    "# Compare with the significance level\n",
    "if p_value < alpha:\n",
    "    print(\"Reject the null hypothesis. Variances are significantly different.\")\n",
    "else:\n",
    "    print(\"Fail to reject the null hypothesis. There is not enough evidence to conclude significant difference in variances.\")"
   ]
  },
  {
   "cell_type": "code",
   "execution_count": null,
   "id": "2dc5d9d9-5f8e-4fa6-9d8f-9bff5ce329dc",
   "metadata": {},
   "outputs": [],
   "source": [
    "Q9. The following data represent the test scores of two groups of students: Group A: 80, 85, 90, 92, 87, 83;\n",
    "Group B: 75, 78, 82, 79, 81, 84. Conduct an F-test at the 1% significance level to determine if the variances\n",
    "are significantly different."
   ]
  },
  {
   "cell_type": "code",
   "execution_count": 75,
   "id": "9fc7804a-f0df-40ef-b4ec-d822f3e3085e",
   "metadata": {},
   "outputs": [],
   "source": [
    "import numpy as np\n",
    "from scipy.stats import f"
   ]
  },
  {
   "cell_type": "code",
   "execution_count": 76,
   "id": "2817bc32-3ffd-4546-811c-8fd76da4d7f0",
   "metadata": {},
   "outputs": [],
   "source": [
    "# Given data\n",
    "test_scores_group_A = np.array([80, 85, 90, 92, 87, 83])\n",
    "test_scores_group_B = np.array([75, 78, 82, 79, 81, 84])\n",
    "alpha = 0.01\n"
   ]
  },
  {
   "cell_type": "code",
   "execution_count": 77,
   "id": "b12566ae-044f-4b9e-a027-8c1de13db1f5",
   "metadata": {},
   "outputs": [],
   "source": [
    "\n",
    "# Degrees of freedom\n",
    "df_numerator = len(test_scores_group_A) - 1\n",
    "df_denominator = len(test_scores_group_B) - 1"
   ]
  },
  {
   "cell_type": "code",
   "execution_count": 78,
   "id": "a7f8b4de-37b1-4395-bd48-48aeffb14373",
   "metadata": {},
   "outputs": [
    {
     "data": {
      "text/plain": [
       "5"
      ]
     },
     "execution_count": 78,
     "metadata": {},
     "output_type": "execute_result"
    }
   ],
   "source": [
    "df_numerator"
   ]
  },
  {
   "cell_type": "code",
   "execution_count": 79,
   "id": "ffea1d1a-3902-419c-9433-5c686b3caf5d",
   "metadata": {},
   "outputs": [
    {
     "data": {
      "text/plain": [
       "5"
      ]
     },
     "execution_count": 79,
     "metadata": {},
     "output_type": "execute_result"
    }
   ],
   "source": [
    "df_denominator"
   ]
  },
  {
   "cell_type": "code",
   "execution_count": 80,
   "id": "ffb6cb2e-01b2-4778-bc36-7c779593913d",
   "metadata": {},
   "outputs": [],
   "source": [
    "# Sample variances\n",
    "sample_variance_A = np.var(test_scores_group_A, ddof=1)\n",
    "sample_variance_B = np.var(test_scores_group_B, ddof=1)"
   ]
  },
  {
   "cell_type": "code",
   "execution_count": 81,
   "id": "266b44ef-13a4-4813-b32b-3094a5825ac8",
   "metadata": {},
   "outputs": [
    {
     "data": {
      "text/plain": [
       "19.76666666666667"
      ]
     },
     "execution_count": 81,
     "metadata": {},
     "output_type": "execute_result"
    }
   ],
   "source": [
    "sample_variance_A"
   ]
  },
  {
   "cell_type": "code",
   "execution_count": 82,
   "id": "a5a6e35c-d224-45d8-b9ce-9de90f68cdf8",
   "metadata": {},
   "outputs": [
    {
     "data": {
      "text/plain": [
       "10.166666666666666"
      ]
     },
     "execution_count": 82,
     "metadata": {},
     "output_type": "execute_result"
    }
   ],
   "source": [
    "sample_variance_B"
   ]
  },
  {
   "cell_type": "code",
   "execution_count": 83,
   "id": "8383bc9c-9b36-4c0c-b751-a492e6c0f8b2",
   "metadata": {},
   "outputs": [],
   "source": [
    "# F-statistic calculation\n",
    "f_statistic = sample_variance_A / sample_variance_B"
   ]
  },
  {
   "cell_type": "code",
   "execution_count": 84,
   "id": "479581d9-80b6-4994-b67b-a1bd041547f1",
   "metadata": {},
   "outputs": [],
   "source": [
    "# P-value calculation\n",
    "p_value = 2 * min(f.cdf(f_statistic, df_numerator, df_denominator), 1 - f.cdf(f_statistic, df_numerator, df_denominator))"
   ]
  },
  {
   "cell_type": "code",
   "execution_count": 85,
   "id": "f67c17c1-56f4-4c24-a3ba-4e31e12fb14c",
   "metadata": {},
   "outputs": [],
   "source": [
    "# Critical F-value for two-tailed test\n",
    "critical_f_value = f.ppf(1 - alpha / 2, df_numerator, df_denominator)"
   ]
  },
  {
   "cell_type": "code",
   "execution_count": 86,
   "id": "0c50acc3-e843-454b-a93d-9c78d3691d4c",
   "metadata": {},
   "outputs": [
    {
     "name": "stdout",
     "output_type": "stream",
     "text": [
      "F-statistic: 1.9442622950819677\n",
      "P-value: 0.4831043549070688\n",
      "Critical F-value: 14.939605459912224\n"
     ]
    }
   ],
   "source": [
    "# Display the results\n",
    "print(f\"F-statistic: {f_statistic}\")\n",
    "print(f\"P-value: {p_value}\")\n",
    "print(f\"Critical F-value: {critical_f_value}\")\n"
   ]
  },
  {
   "cell_type": "code",
   "execution_count": 87,
   "id": "9f8aa6e1-9c69-4e66-864c-06b91baa9fec",
   "metadata": {},
   "outputs": [
    {
     "name": "stdout",
     "output_type": "stream",
     "text": [
      "Fail to reject the null hypothesis. There is not enough evidence to conclude significant difference in variances.\n"
     ]
    }
   ],
   "source": [
    "# Compare with the significance level\n",
    "if p_value < alpha:\n",
    "    print(\"Reject the null hypothesis. Variances are significantly different.\")\n",
    "else:\n",
    "    print(\"Fail to reject the null hypothesis. There is not enough evidence to conclude significant difference in variances.\")"
   ]
  },
  {
   "cell_type": "code",
   "execution_count": null,
   "id": "0fcfb641-665e-4328-9820-93b987372407",
   "metadata": {},
   "outputs": [],
   "source": []
  }
 ],
 "metadata": {
  "kernelspec": {
   "display_name": "Python 3 (ipykernel)",
   "language": "python",
   "name": "python3"
  },
  "language_info": {
   "codemirror_mode": {
    "name": "ipython",
    "version": 3
   },
   "file_extension": ".py",
   "mimetype": "text/x-python",
   "name": "python",
   "nbconvert_exporter": "python",
   "pygments_lexer": "ipython3",
   "version": "3.10.8"
  }
 },
 "nbformat": 4,
 "nbformat_minor": 5
}
